{
  "nbformat": 4,
  "nbformat_minor": 0,
  "metadata": {
    "colab": {
      "provenance": [],
      "authorship_tag": "ABX9TyOi9bTUusFNZUF895/uXm8f",
      "include_colab_link": true
    },
    "kernelspec": {
      "name": "python3",
      "display_name": "Python 3"
    },
    "language_info": {
      "name": "python"
    }
  },
  "cells": [
    {
      "cell_type": "markdown",
      "metadata": {
        "id": "view-in-github",
        "colab_type": "text"
      },
      "source": [
        "<a href=\"https://colab.research.google.com/github/koleshjr/Fruit_Classifier_Project/blob/main/Understanding_FastApi_with_a_fastai_model.ipynb\" target=\"_parent\"><img src=\"https://colab.research.google.com/assets/colab-badge.svg\" alt=\"Open In Colab\"/></a>"
      ]
    },
    {
      "cell_type": "markdown",
      "source": [
        "## FASTAI WITH FASTAPI\n",
        "All the below has been gotten from the link below\n",
        "\n",
        "https://towardsai.net/p/l/fastapi%E2%80%8A-%E2%80%8Acreate-and-deploy-hot-dog-detector#respond"
      ],
      "metadata": {
        "id": "T-1U1dQCbqV2"
      }
    },
    {
      "cell_type": "markdown",
      "source": [
        "### File Structure \n",
        ".\n",
        "├── LICENSE <br>\n",
        "├── README.md <br>\n",
        "├── app <br>\n",
        "│   ├── __init__.py <br>\n",
        "│   ├── json_models <br>\n",
        "│   │   ├── __init__.py <br>\n",
        "│   │   └── request.py <br>\n",
        "│   ├── main.py <br>\n",
        "│   ├── models <br>\n",
        "│   │   ├── __init__.py <br>\n",
        "│   │   └── model.pkl <br>\n",
        "│   └── utils.py <br>\n",
        "├── notebooks <br>\n",
        "│   └── HotDogOrNot.ipynb <br>\n",
        "└── requirements.txt <br>"
      ],
      "metadata": {
        "id": "1yV5VZMXbuLj"
      }
    },
    {
      "cell_type": "code",
      "source": [
        "# run this line from the parent directory to install all the necessary requirements\n",
        "$ pip3 install -r requirements.txt"
      ],
      "metadata": {
        "id": "s2cPCZ7CbtFX"
      },
      "execution_count": null,
      "outputs": []
    },
    {
      "cell_type": "markdown",
      "source": [
        "### Utils.py"
      ],
      "metadata": {
        "id": "oe3ydGAUcpN9"
      }
    },
    {
      "cell_type": "code",
      "source": [
        "from typing import Dict\n",
        "from io import BytesIO\n",
        "import numpy as np\n",
        "from PIL import Image\n",
        "from fastai.vision.all import *\n",
        "\n",
        "#read the image\n",
        "def read_image(file: bytes) -> PILImage:\n",
        "    img = Image.open(BytesIO(file))\n",
        "    fastimg = PILImage.create(np.array(img.convert('RGB')))\n",
        "\n",
        "    return fastimg\n",
        "\n",
        "\n",
        "\n",
        "# prediction function and returns the output in the format you want\n",
        "def predict_hotdog(image) -> Dict:\n",
        "    path = Path()\n",
        "    inference_model = load_learner(path/'models/model.pkl')\n",
        "    is_hotdog, _ , probs = inference_model.predict(image)\n",
        "    if probs[1] > 0.5:\n",
        "        return {\n",
        "            \"prediction\": \"hotdog\",\n",
        "            \"probability\": probs[1].item()\n",
        "        }\n",
        "    \n",
        "    return {\n",
        "        \"prediction\": \"not hotdog\",\n",
        "        \"probability\": probs[0].item()\n",
        "    }"
      ],
      "metadata": {
        "id": "SCb1f8L6crL1"
      },
      "execution_count": null,
      "outputs": []
    },
    {
      "cell_type": "markdown",
      "source": [
        "### response.py\n",
        "\n",
        "This file that resides within the json_models directory contains aPydantic class for the response model of our API.\n",
        "\n",
        "In short, Pydantic is a fantastic library that provides data validations using python type annotations at runtime.\n",
        "\n",
        "This library is especially useful for building APIs and has superb interoperability with FastAPI."
      ],
      "metadata": {
        "id": "Y1WjRNOieIiO"
      }
    },
    {
      "cell_type": "code",
      "source": [
        "from pydantic import BaseModel\n",
        "\n",
        "class Response(BaseModel):\n",
        "    prediction: str\n",
        "    probability: float"
      ],
      "metadata": {
        "id": "UVzH7dPxeKFS"
      },
      "execution_count": null,
      "outputs": []
    },
    {
      "cell_type": "markdown",
      "source": [
        "### main.py\n",
        "\n",
        "Finally, this is the file that our application will run in production.\n",
        "\n",
        "First, we create a FastAPI class object. Then, we decorate our predict function using this class object. @app.post indicates that our request will be a post request followed by the path for our API /predict/ .\n",
        "\n",
        "We also have a parameter called response_model here which accepts our Pydantic model as input. This parameter is to validate our response at runtime.\n",
        "\n",
        "Finally, our predict function has a query parameter called myfile of type UploadFile which will be used to read our image file in the API.\n",
        "\n",
        "This variable is passed into the read_image function we saw before which will convert our image data in bytes to a PILImage object which we can easily use to feed our FastAI model.\n",
        "\n",
        "Finally, the image is passed into our predict_hotdog function which serves predictions and returns a dictionary object as a response"
      ],
      "metadata": {
        "id": "FmIwiUTcehdc"
      }
    },
    {
      "cell_type": "code",
      "source": [
        "from fastapi import FastAPI, File, UploadFile\n",
        "from fastai.vision.all import *\n",
        "from utils import read_image, predict_hotdog\n",
        "from json_models.response import Response\n",
        "\n",
        "app = FastAPI()\n",
        "\n",
        "@app.post(\"/predict/\", response_model=Response)\n",
        "async def predict(myfile: UploadFile = File(...)):\n",
        "    image = read_image(await myfile.read())\n",
        "\n",
        "    return predict_hotdog(image)"
      ],
      "metadata": {
        "id": "KK-Y8J4qei1K"
      },
      "execution_count": null,
      "outputs": []
    },
    {
      "cell_type": "markdown",
      "source": [
        "### Testing\n",
        "In order to manually test out the API, you have to run it first.\n",
        "\n",
        "Go to the app directory in your repo and type the following command:\n",
        "\n",
        "$ uvicorn main:app --reload \n",
        "\n",
        "Note: The following excerpt is taken directly from the FastAPI docs.\n",
        "\n",
        "The command uvicorn main:app refers to:\n",
        "\n",
        "    main: the file main.py (the Python \"module\").\n",
        "    app: the object created inside of main.py with the line app = FastAPI().\n",
        "    –reload: make the server restart after code changes. Only use for development.\n",
        "\n",
        "On your terminal, you should see the following line:\n",
        "\n",
        "INFO: Uvicorn running on http://127.0.0.1:8000 (Press CTRL+C to quit\n",
        "\n",
        "Open http://127.0.0.1:8000/docs on your browser of choice."
      ],
      "metadata": {
        "id": "JRNHlhPJe6N_"
      }
    },
    {
      "cell_type": "markdown",
      "source": [
        "### Dockerize"
      ],
      "metadata": {
        "id": "h7CEB9tHgIU7"
      }
    },
    {
      "cell_type": "code",
      "source": [],
      "metadata": {
        "id": "iBh1ztdHe7PW"
      },
      "execution_count": null,
      "outputs": []
    }
  ]
}