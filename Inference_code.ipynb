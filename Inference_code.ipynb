{
  "nbformat": 4,
  "nbformat_minor": 0,
  "metadata": {
    "colab": {
      "provenance": [],
      "include_colab_link": true
    },
    "kernelspec": {
      "name": "python3",
      "display_name": "Python 3"
    },
    "language_info": {
      "name": "python"
    },
    "gpuClass": "standard"
  },
  "cells": [
    {
      "cell_type": "markdown",
      "metadata": {
        "id": "view-in-github",
        "colab_type": "text"
      },
      "source": [
        "<a href=\"https://colab.research.google.com/github/koleshjr/Fruit_Classifier_Project/blob/main/Inference_code.ipynb\" target=\"_parent\"><img src=\"https://colab.research.google.com/assets/colab-badge.svg\" alt=\"Open In Colab\"/></a>"
      ]
    },
    {
      "cell_type": "markdown",
      "source": [
        "## FRUIT CLASSIFICATION APP"
      ],
      "metadata": {
        "id": "pCqc4whs6yUC"
      }
    },
    {
      "cell_type": "markdown",
      "source": [
        "##### Pip install all necessary requirements\n"
      ],
      "metadata": {
        "id": "59WB83CTeVN9"
      }
    },
    {
      "cell_type": "code",
      "source": [
        "# !pip install -q fastai\n",
        "# !pip install -U albumentations\n",
        "# !pip install opencv-python==4.5.4.60\n",
        "# !pip install timm==0.6.2.dev0"
      ],
      "metadata": {
        "id": "IgoKOwoy8YrL"
      },
      "execution_count": null,
      "outputs": []
    },
    {
      "cell_type": "markdown",
      "source": [
        "##### setup your path"
      ],
      "metadata": {
        "id": "8YsRCVJyeaMa"
      }
    },
    {
      "cell_type": "code",
      "source": [
        "#Start by connecting gdrive into the google colab\n",
        "\n",
        "from google.colab import drive\n",
        "\n",
        "drive.mount('/content/gdrive')\n",
        "path = '/content/gdrive/MyDrive/Fruit_Project/'"
      ],
      "metadata": {
        "colab": {
          "base_uri": "https://localhost:8080/"
        },
        "id": "95QicSsrNvry",
        "outputId": "331aed4e-9cb3-4dbf-d8d6-5bccb57bc23e"
      },
      "execution_count": null,
      "outputs": [
        {
          "output_type": "stream",
          "name": "stdout",
          "text": [
            "Drive already mounted at /content/gdrive; to attempt to forcibly remount, call drive.mount(\"/content/gdrive\", force_remount=True).\n"
          ]
        }
      ]
    },
    {
      "cell_type": "markdown",
      "source": [
        "##### Import all the necessary libraries"
      ],
      "metadata": {
        "id": "TGbLVnEyeqI3"
      }
    },
    {
      "cell_type": "code",
      "source": [
        "\n",
        "from fastai.vision.all import * # same as tensorflow, pytorch\n",
        "# import pathlib\n",
        "# from PIL import Image\n",
        "import albumentations #augmentations\n",
        "from albumentations.pytorch import ToTensorV2\n",
        "import timm # transformers"
      ],
      "metadata": {
        "id": "2QBKu19I626u"
      },
      "execution_count": null,
      "outputs": []
    },
    {
      "cell_type": "markdown",
      "source": [
        "##### This class helps fastai to support albumentation augmentation out of the box"
      ],
      "metadata": {
        "id": "NAzg2z_7e9HI"
      }
    },
    {
      "cell_type": "code",
      "source": [
        "class AlbumentationsTransform (RandTransform):\n",
        "    split_idx,order=None,2\n",
        "    def __init__(self, train_aug, valid_aug): store_attr()\n",
        "    \n",
        "    def before_call(self, b, split_idx):\n",
        "        self.idx = split_idx\n",
        "    \n",
        "    def encodes(self, img: PILImage):\n",
        "        if self.idx == 0:\n",
        "            aug_img = self.train_aug(image=np.array(img))['image']\n",
        "        else:\n",
        "            aug_img = self.valid_aug(image=np.array(img))['image']\n",
        "        return PILImage.create(aug_img)"
      ],
      "metadata": {
        "id": "Pu312mT_jiMz"
      },
      "execution_count": null,
      "outputs": []
    },
    {
      "cell_type": "code",
      "source": [
        "learn = load_learner(path + 'fruit_model_v2.pkl')\n",
        "\n",
        "labels = learn.dls.vocab\n",
        "\n",
        "def predict(img):\n",
        "\n",
        "  pred,pred_idx,probs = learn.predict(img)\n",
        "\n",
        "  return {labels[i]: float(probs[i]) for i in range(len(labels))}\n",
        "\n",
        "\n",
        "def get_prediction_class(img):\n",
        "\n",
        "  pred,pred_idx,probs = learn.predict(img)\n",
        "\n",
        "  max_prob = 0\n",
        "\n",
        "  for i in range(len(probs)):\n",
        "\n",
        "    if(probs[i]>max_prob):\n",
        "\n",
        "      max_prob = probs[i]\n",
        "\n",
        "      max_idx = i\n",
        "\n",
        "  print(f'The predicted class is: {labels[max_idx]} with a probability of {max_prob}') "
      ],
      "metadata": {
        "id": "WeOlFBHc8bqA"
      },
      "execution_count": null,
      "outputs": []
    },
    {
      "cell_type": "code",
      "source": [
        "get_prediction_class('/content/gdrive/MyDrive/Fruit_Project/Onion.jpg')"
      ],
      "metadata": {
        "id": "XC9oRWDx5muT",
        "colab": {
          "base_uri": "https://localhost:8080/",
          "height": 35
        },
        "outputId": "81f2b9c0-02d0-447e-a0c9-e34bce52e54e"
      },
      "execution_count": null,
      "outputs": [
        {
          "output_type": "display_data",
          "data": {
            "text/plain": [
              "<IPython.core.display.HTML object>"
            ],
            "text/html": [
              "\n",
              "<style>\n",
              "    /* Turns off some styling */\n",
              "    progress {\n",
              "        /* gets rid of default border in Firefox and Opera. */\n",
              "        border: none;\n",
              "        /* Needs to be in here for Safari polyfill so background images work as expected. */\n",
              "        background-size: auto;\n",
              "    }\n",
              "    progress:not([value]), progress:not([value])::-webkit-progress-bar {\n",
              "        background: repeating-linear-gradient(45deg, #7e7e7e, #7e7e7e 10px, #5c5c5c 10px, #5c5c5c 20px);\n",
              "    }\n",
              "    .progress-bar-interrupted, .progress-bar-interrupted::-webkit-progress-bar {\n",
              "        background: #F44336;\n",
              "    }\n",
              "</style>\n"
            ]
          },
          "metadata": {}
        },
        {
          "output_type": "display_data",
          "data": {
            "text/plain": [
              "<IPython.core.display.HTML object>"
            ],
            "text/html": []
          },
          "metadata": {}
        },
        {
          "output_type": "stream",
          "name": "stdout",
          "text": [
            "The predicted class is: Onion White with a probability of 0.9927709698677063\n"
          ]
        }
      ]
    },
    {
      "cell_type": "code",
      "source": [],
      "metadata": {
        "id": "UMl86Cm7jsnW"
      },
      "execution_count": null,
      "outputs": []
    }
  ]
}